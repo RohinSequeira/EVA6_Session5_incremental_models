{
 "cells": [
  {
   "cell_type": "markdown",
   "id": "f8e14862",
   "metadata": {},
   "source": [
    "## STEP-1\n",
    "\n",
    "**Target:**  \n",
    "\n",
    "Apply regularization to bring overfitting within acceptable range.\n",
    "\n",
    "**Results:**  \n",
    "Parameters: 8,512  \n",
    "Best Train Accuracy: 99.02  \n",
    "Best Test Accuracy: 98.91 (13th Epoch), 98.66 (15th Epoch)\n",
    "\n",
    "**Analysis:**  \n",
    "Droput Regularization(6%) has been added at the end of first and second convolution blocks (randomly), which helped reduce overfitting as expected. The model still needs to learn more efficiently without overfitting and to help the model identify the test images, for which we can try Data Augmentation."
   ]
  },
  {
   "cell_type": "code",
   "execution_count": 1,
   "id": "6fad1860",
   "metadata": {},
   "outputs": [],
   "source": [
    "from __future__ import print_function\n",
    "import torch\n",
    "import torch.nn as nn\n",
    "import torch.nn.functional as F\n",
    "import torch.optim as optim\n",
    "from torchvision import datasets, transforms\n",
    "from torchsummary import summary\n",
    "from tqdm import tqdm\n",
    "import seaborn as sns\n",
    "import matplotlib.pyplot as plt\n",
    "import numpy as np\n",
    "import warnings \n",
    "warnings.filterwarnings('ignore')"
   ]
  },
  {
   "cell_type": "markdown",
   "id": "42c31354",
   "metadata": {},
   "source": [
    "# Model Architecture"
   ]
  },
  {
   "cell_type": "code",
   "execution_count": 2,
   "id": "50cecb8b",
   "metadata": {},
   "outputs": [],
   "source": [
    "class Net(nn.Module):\n",
    "    def __init__(self):\n",
    "        super(Net, self).__init__()\n",
    "        \n",
    "        # Input Block\n",
    "        self.conv1 = nn.Sequential(nn.Conv2d(1, 4, 3, padding=1),\n",
    "            nn.BatchNorm2d(4),\n",
    "            nn.ReLU()\n",
    "        ) #input - RF:1x1; Output RF: 3x3\n",
    "        \n",
    "        # Convolution Block-1\n",
    "        self.conv2 = nn.Sequential(nn.Conv2d(4, 8, 3, padding=1),\n",
    "            nn.BatchNorm2d(8),\n",
    "            nn.ReLU()\n",
    "        ) #input - RF:3x3; Output RF: 5x5\n",
    "        \n",
    "        self.conv3 = nn.Sequential(nn.Conv2d(8, 16, 3, padding=1),\n",
    "            nn.BatchNorm2d(16),\n",
    "            nn.ReLU()\n",
    "        ) #input - RF:5x5; Output RF: 7x7\n",
    "        \n",
    "        self.dropout1 = nn.Dropout(0.06)\n",
    "        \n",
    "        # Transition Block\n",
    "        self.maxpool = nn.MaxPool2d(2, 2) #input - RF:7x7; Output RF: 8x8\n",
    "        self.conv4 = nn.Sequential(nn.Conv2d(in_channels=16, out_channels=4, kernel_size=(1, 1), padding=0, bias=False),\n",
    "            nn.ReLU()\n",
    "        ) #input - RF:8x8; Output RF: 8x8\n",
    "        \n",
    "        # Convolution Block-2\n",
    "        self.conv5 = nn.Sequential(nn.Conv2d(4, 8, 3),\n",
    "            nn.BatchNorm2d(8),\n",
    "            nn.ReLU()\n",
    "        ) #input - RF:8x8; Output RF: 12x12\n",
    "        \n",
    "        self.conv6 = nn.Sequential(nn.Conv2d(8, 16, 3),\n",
    "            nn.BatchNorm2d(16),\n",
    "            nn.ReLU()\n",
    "        ) #input - RF:12x12; Output RF: 16x16\n",
    "\n",
    "        self.conv7 = nn.Sequential(nn.Conv2d(16, 32, 3),\n",
    "            nn.BatchNorm2d(32),\n",
    "            nn.ReLU()\n",
    "        ) #input - RF:16x16; Output RF: 20x20\n",
    "        \n",
    "        self.dropout2 = nn.Dropout(0.06)\n",
    "\n",
    "        # GlobalAveragePooling & Output Block\n",
    "        self.avgpool = nn.AvgPool2d(8) #input - RF:20x20 Output RF: 34x34\n",
    "        \n",
    "        self.conv8 = nn.Sequential(\n",
    "            nn.Conv2d(in_channels=32, out_channels=16, kernel_size=(1, 1), padding=0, bias=False),\n",
    "            nn.ReLU()\n",
    "        ) #input - RF:34x34; Output RF: 34x34\n",
    "        self.conv9 = nn.Sequential(\n",
    "            nn.Conv2d(in_channels=16, out_channels=10, kernel_size=(1, 1), padding=0, bias=False)\n",
    "        ) #input - RF:34x34; Output RF: 34x34\n",
    "\n",
    "        self.dropout = nn.Dropout(0.06)\n",
    "\n",
    "    def forward(self, x):\n",
    "\n",
    "        x = self.conv1(x)\n",
    "        x = self.conv2(x)\n",
    "        x = self.conv3(x)\n",
    "        x = self.dropout1(x)\n",
    "        x = self.maxpool(x)\n",
    "        x = self.conv4(x)\n",
    "        x = self.conv5(x)\n",
    "        x = self.conv6(x)\n",
    "        x = self.conv7(x)\n",
    "        x = self.dropout2(x)\n",
    "        x = self.avgpool(x)\n",
    "        x = self.conv8(x)\n",
    "        x = self.conv9(x)        \n",
    "\n",
    "        x = x.view(-1, 10)\n",
    "\n",
    "        return F.log_softmax(x)"
   ]
  },
  {
   "cell_type": "code",
   "execution_count": 3,
   "id": "8b641a11",
   "metadata": {},
   "outputs": [
    {
     "name": "stdout",
     "output_type": "stream",
     "text": [
      "Model Summary:\n",
      "----------------------------------------------------------------\n",
      "        Layer (type)               Output Shape         Param #\n",
      "================================================================\n",
      "            Conv2d-1            [-1, 4, 28, 28]              40\n",
      "       BatchNorm2d-2            [-1, 4, 28, 28]               8\n",
      "              ReLU-3            [-1, 4, 28, 28]               0\n",
      "            Conv2d-4            [-1, 8, 28, 28]             296\n",
      "       BatchNorm2d-5            [-1, 8, 28, 28]              16\n",
      "              ReLU-6            [-1, 8, 28, 28]               0\n",
      "            Conv2d-7           [-1, 16, 28, 28]           1,168\n",
      "       BatchNorm2d-8           [-1, 16, 28, 28]              32\n",
      "              ReLU-9           [-1, 16, 28, 28]               0\n",
      "          Dropout-10           [-1, 16, 28, 28]               0\n",
      "        MaxPool2d-11           [-1, 16, 14, 14]               0\n",
      "           Conv2d-12            [-1, 4, 14, 14]              64\n",
      "             ReLU-13            [-1, 4, 14, 14]               0\n",
      "           Conv2d-14            [-1, 8, 12, 12]             296\n",
      "      BatchNorm2d-15            [-1, 8, 12, 12]              16\n",
      "             ReLU-16            [-1, 8, 12, 12]               0\n",
      "           Conv2d-17           [-1, 16, 10, 10]           1,168\n",
      "      BatchNorm2d-18           [-1, 16, 10, 10]              32\n",
      "             ReLU-19           [-1, 16, 10, 10]               0\n",
      "           Conv2d-20             [-1, 32, 8, 8]           4,640\n",
      "      BatchNorm2d-21             [-1, 32, 8, 8]              64\n",
      "             ReLU-22             [-1, 32, 8, 8]               0\n",
      "          Dropout-23             [-1, 32, 8, 8]               0\n",
      "        AvgPool2d-24             [-1, 32, 1, 1]               0\n",
      "           Conv2d-25             [-1, 16, 1, 1]             512\n",
      "             ReLU-26             [-1, 16, 1, 1]               0\n",
      "           Conv2d-27             [-1, 10, 1, 1]             160\n",
      "================================================================\n",
      "Total params: 8,512\n",
      "Trainable params: 8,512\n",
      "Non-trainable params: 0\n",
      "----------------------------------------------------------------\n",
      "Input size (MB): 0.00\n",
      "Forward/backward pass size (MB): 0.76\n",
      "Params size (MB): 0.03\n",
      "Estimated Total Size (MB): 0.80\n",
      "----------------------------------------------------------------\n",
      "\n",
      "\n",
      "Model Architecture:\n",
      "\n",
      "\n",
      "Net(\n",
      "  (conv1): Sequential(\n",
      "    (0): Conv2d(1, 4, kernel_size=(3, 3), stride=(1, 1), padding=(1, 1))\n",
      "    (1): BatchNorm2d(4, eps=1e-05, momentum=0.1, affine=True, track_running_stats=True)\n",
      "    (2): ReLU()\n",
      "  )\n",
      "  (conv2): Sequential(\n",
      "    (0): Conv2d(4, 8, kernel_size=(3, 3), stride=(1, 1), padding=(1, 1))\n",
      "    (1): BatchNorm2d(8, eps=1e-05, momentum=0.1, affine=True, track_running_stats=True)\n",
      "    (2): ReLU()\n",
      "  )\n",
      "  (conv3): Sequential(\n",
      "    (0): Conv2d(8, 16, kernel_size=(3, 3), stride=(1, 1), padding=(1, 1))\n",
      "    (1): BatchNorm2d(16, eps=1e-05, momentum=0.1, affine=True, track_running_stats=True)\n",
      "    (2): ReLU()\n",
      "  )\n",
      "  (dropout1): Dropout(p=0.06, inplace=False)\n",
      "  (maxpool): MaxPool2d(kernel_size=2, stride=2, padding=0, dilation=1, ceil_mode=False)\n",
      "  (conv4): Sequential(\n",
      "    (0): Conv2d(16, 4, kernel_size=(1, 1), stride=(1, 1), bias=False)\n",
      "    (1): ReLU()\n",
      "  )\n",
      "  (conv5): Sequential(\n",
      "    (0): Conv2d(4, 8, kernel_size=(3, 3), stride=(1, 1))\n",
      "    (1): BatchNorm2d(8, eps=1e-05, momentum=0.1, affine=True, track_running_stats=True)\n",
      "    (2): ReLU()\n",
      "  )\n",
      "  (conv6): Sequential(\n",
      "    (0): Conv2d(8, 16, kernel_size=(3, 3), stride=(1, 1))\n",
      "    (1): BatchNorm2d(16, eps=1e-05, momentum=0.1, affine=True, track_running_stats=True)\n",
      "    (2): ReLU()\n",
      "  )\n",
      "  (conv7): Sequential(\n",
      "    (0): Conv2d(16, 32, kernel_size=(3, 3), stride=(1, 1))\n",
      "    (1): BatchNorm2d(32, eps=1e-05, momentum=0.1, affine=True, track_running_stats=True)\n",
      "    (2): ReLU()\n",
      "  )\n",
      "  (dropout2): Dropout(p=0.06, inplace=False)\n",
      "  (avgpool): AvgPool2d(kernel_size=8, stride=8, padding=0)\n",
      "  (conv8): Sequential(\n",
      "    (0): Conv2d(32, 16, kernel_size=(1, 1), stride=(1, 1), bias=False)\n",
      "    (1): ReLU()\n",
      "  )\n",
      "  (conv9): Sequential(\n",
      "    (0): Conv2d(16, 10, kernel_size=(1, 1), stride=(1, 1), bias=False)\n",
      "  )\n",
      "  (dropout): Dropout(p=0.06, inplace=False)\n",
      ")\n"
     ]
    }
   ],
   "source": [
    "use_cuda = torch.cuda.is_available()\n",
    "device = torch.device(\"cuda\" if use_cuda else \"cpu\")\n",
    "model = Net().to(device)\n",
    "print(\"Model Summary:\")\n",
    "summary(model, input_size=(1, 28, 28))\n",
    "print(\"\\n\\nModel Architecture:\\n\\n\")\n",
    "print(model)"
   ]
  },
  {
   "cell_type": "markdown",
   "id": "39eceb1a",
   "metadata": {},
   "source": [
    "Convolution layers: 5 blocks of convolution layers used-  \n",
    "**1.  1 input layer, with 1 channel input and 4 channels as output**  \n",
    "**2.  1st Convolution Block: 2 conv layers taking 4 channels as input and expanding to 8 and then 16. Dropout added at the end.**  \n",
    "**3.  After dropout, a transitional layer with MaxPool and 1x1 convolution used to reduce channel dimensions & count respectively**  \n",
    "**4.  2nd Convolution Block: 3 conv layers taking 4 channels as input and expanding to 8,16 and 32. Dropout added at the end.**  \n",
    "**5.  Output block: GAP layer to reduce the channel size from 8 to 1, further connected to two 1x1 conv layers giving 10 outputs.**  \n",
    "\n",
    "- Batch Normalization used after each convolution layer.  \n",
    "- Dropout used: 6% at the end first and second convolution blocks.  \n",
    "- Transition Layer (Max Pool + 1x1 convolution) used after the first dropout, to bring down the channel size and count.  \n",
    "- Global Average Pooling used to bring down the channel size from 8x8x32 to 1x1x32.  \n",
    "- Instead of FC layers, 1x1 Fully Connected Convolutions are used after the GAP layer.  \n",
    "- Total Parameters: 8,512  "
   ]
  },
  {
   "cell_type": "markdown",
   "id": "1f2969b2",
   "metadata": {},
   "source": [
    "# Reading MNIST data"
   ]
  },
  {
   "cell_type": "markdown",
   "id": "0395c50e",
   "metadata": {},
   "source": [
    "# Data Loader"
   ]
  },
  {
   "cell_type": "code",
   "execution_count": 4,
   "id": "440957b6",
   "metadata": {},
   "outputs": [],
   "source": [
    "torch.manual_seed(1)\n",
    "batch_size = 128\n",
    "\n",
    "kwargs = {'num_workers': 1, 'pin_memory': True} if use_cuda else {}\n",
    "train_loader = torch.utils.data.DataLoader(\n",
    "    datasets.MNIST('../data', train=True, download=True,\n",
    "                    transform=transforms.Compose([\n",
    "                        transforms.ToTensor(),\n",
    "                        transforms.Normalize((0.1307,), (0.3081,))\n",
    "                    ])),\n",
    "    batch_size=batch_size, shuffle=True, **kwargs)\n",
    "test_loader = torch.utils.data.DataLoader(\n",
    "    datasets.MNIST('../data', train=False, transform=transforms.Compose([\n",
    "                        transforms.ToTensor(),\n",
    "                        transforms.Normalize((0.1307,), (0.3081,))\n",
    "                    ])),\n",
    "    batch_size=batch_size, shuffle=True, **kwargs)"
   ]
  },
  {
   "cell_type": "markdown",
   "id": "a61fd08f",
   "metadata": {},
   "source": [
    "# Train Function"
   ]
  },
  {
   "cell_type": "code",
   "execution_count": 5,
   "id": "79e9d46b",
   "metadata": {},
   "outputs": [],
   "source": [
    "def train(model, device, train_loader, optimizer, epoch):\n",
    "    model.train()\n",
    "    epoch_loss = 0\n",
    "    correct = 0\n",
    "    \n",
    "    for batch_idx, (data, target) in enumerate(train_loader):\n",
    "        data, target = data.to(device), target.to(device)\n",
    "        optimizer.zero_grad()\n",
    "        output = model(data)\n",
    "        loss = F.nll_loss(output, target)\n",
    "        epoch_loss += loss.item()\n",
    "        loss.backward()\n",
    "        optimizer.step()\n",
    "        pred = output.argmax(dim=1, keepdim=True)  # get the index of the max log-probability\n",
    "        correct += pred.eq(target.view_as(pred)).sum().item()\n",
    "\n",
    "    print(f'Train set: Average loss: {loss.item():.4f}, Accuracy: {100. * correct/len(train_loader.dataset):.2f}')\n",
    "    train_loss = epoch_loss / len(train_loader)\n",
    "    train_acc=100.*correct/len(train_loader.dataset)\n",
    "    return train_loss, train_acc"
   ]
  },
  {
   "cell_type": "markdown",
   "id": "0eff1a96",
   "metadata": {},
   "source": [
    "# Test Function"
   ]
  },
  {
   "cell_type": "code",
   "execution_count": 6,
   "id": "2d6f9c8a",
   "metadata": {},
   "outputs": [],
   "source": [
    "def test(model, device, test_loader):\n",
    "    model.eval()\n",
    "    test_loss = 0\n",
    "    correct = 0\n",
    "    with torch.no_grad():\n",
    "        for data, target in test_loader:\n",
    "            data, target = data.to(device), target.to(device)\n",
    "            output = model(data)\n",
    "            test_loss += F.nll_loss(output, target, reduction='sum').item()  # sum up batch loss\n",
    "            pred = output.argmax(dim=1, keepdim=True)  # get the index of the max log-probability\n",
    "            correct += pred.eq(target.view_as(pred)).sum().item()\n",
    "\n",
    "    test_loss /= len(test_loader.dataset)\n",
    "    test_acc = 100.*correct/len(test_loader.dataset)\n",
    "    print(f'\\nTest set: Average loss: {test_loss:.3f}, Accuracy: {100. * correct/len(test_loader.dataset):.2f}')\n",
    "    return test_loss, test_acc"
   ]
  },
  {
   "cell_type": "markdown",
   "id": "76e7ec67",
   "metadata": {},
   "source": [
    "# Defining optimizer and learning rate"
   ]
  },
  {
   "cell_type": "code",
   "execution_count": 7,
   "id": "9da8f5ae",
   "metadata": {},
   "outputs": [],
   "source": [
    "model = Net().to(device)\n",
    "optimizer = optim.SGD(model.parameters(), lr=0.01, momentum=0.9)"
   ]
  },
  {
   "cell_type": "markdown",
   "id": "e685b1bc",
   "metadata": {},
   "source": [
    "# Running the model"
   ]
  },
  {
   "cell_type": "code",
   "execution_count": 8,
   "id": "6f7c6bbc",
   "metadata": {
    "scrolled": true
   },
   "outputs": [
    {
     "name": "stdout",
     "output_type": "stream",
     "text": [
      "\n",
      "Epoch 1 : \n",
      "Train set: Average loss: 0.2407, Accuracy: 57.38\n",
      "\n",
      "Test set: Average loss: 1.927, Accuracy: 46.07\n",
      "\n",
      "Epoch 2 : \n",
      "Train set: Average loss: 0.1238, Accuracy: 94.67\n",
      "\n",
      "Test set: Average loss: 0.275, Accuracy: 91.36\n",
      "\n",
      "Epoch 3 : \n",
      "Train set: Average loss: 0.0695, Accuracy: 96.89\n",
      "\n",
      "Test set: Average loss: 0.100, Accuracy: 96.95\n",
      "\n",
      "Epoch 4 : \n",
      "Train set: Average loss: 0.0966, Accuracy: 97.59\n",
      "\n",
      "Test set: Average loss: 0.078, Accuracy: 97.62\n",
      "\n",
      "Epoch 5 : \n",
      "Train set: Average loss: 0.0738, Accuracy: 97.95\n",
      "\n",
      "Test set: Average loss: 0.085, Accuracy: 97.49\n",
      "\n",
      "Epoch 6 : \n",
      "Train set: Average loss: 0.0420, Accuracy: 98.17\n",
      "\n",
      "Test set: Average loss: 0.066, Accuracy: 98.14\n",
      "\n",
      "Epoch 7 : \n",
      "Train set: Average loss: 0.0706, Accuracy: 98.37\n",
      "\n",
      "Test set: Average loss: 0.070, Accuracy: 98.07\n",
      "\n",
      "Epoch 8 : \n",
      "Train set: Average loss: 0.0108, Accuracy: 98.52\n",
      "\n",
      "Test set: Average loss: 0.103, Accuracy: 96.84\n",
      "\n",
      "Epoch 9 : \n",
      "Train set: Average loss: 0.0701, Accuracy: 98.63\n",
      "\n",
      "Test set: Average loss: 0.047, Accuracy: 98.65\n",
      "\n",
      "Epoch 10 : \n",
      "Train set: Average loss: 0.1266, Accuracy: 98.62\n",
      "\n",
      "Test set: Average loss: 0.049, Accuracy: 98.53\n",
      "\n",
      "Epoch 11 : \n",
      "Train set: Average loss: 0.0104, Accuracy: 98.77\n",
      "\n",
      "Test set: Average loss: 0.047, Accuracy: 98.62\n",
      "\n",
      "Epoch 12 : \n",
      "Train set: Average loss: 0.0180, Accuracy: 98.84\n",
      "\n",
      "Test set: Average loss: 0.052, Accuracy: 98.35\n",
      "\n",
      "Epoch 13 : \n",
      "Train set: Average loss: 0.0469, Accuracy: 98.86\n",
      "\n",
      "Test set: Average loss: 0.040, Accuracy: 98.91\n",
      "\n",
      "Epoch 14 : \n",
      "Train set: Average loss: 0.0464, Accuracy: 98.91\n",
      "\n",
      "Test set: Average loss: 0.048, Accuracy: 98.63\n",
      "\n",
      "Epoch 15 : \n",
      "Train set: Average loss: 0.0057, Accuracy: 99.02\n",
      "\n",
      "Test set: Average loss: 0.045, Accuracy: 98.66\n"
     ]
    }
   ],
   "source": [
    "train_loss_values = []\n",
    "test_loss_values = []\n",
    "\n",
    "train_acc_values = []\n",
    "test_acc_values = []\n",
    "\n",
    "for epoch in range(1, 16):\n",
    "    print('\\nEpoch {} : '.format(epoch))\n",
    "    # train the model\n",
    "    train_loss, train_acc = train(model, device, train_loader, optimizer, epoch)\n",
    "    test_loss, test_acc = test(model, device, test_loader)\n",
    "\n",
    "    train_loss_values.append(train_loss)\n",
    "    test_loss_values.append(test_loss)\n",
    "\n",
    "    train_acc_values.append(train_acc)\n",
    "    test_acc_values.append(test_acc)"
   ]
  },
  {
   "cell_type": "markdown",
   "id": "57766526",
   "metadata": {},
   "source": [
    "# Plotting the train and test loss across each epoch"
   ]
  },
  {
   "cell_type": "code",
   "execution_count": 9,
   "id": "72c0161a",
   "metadata": {},
   "outputs": [
    {
     "data": {
      "image/png": "[encoded data removed]",
      "text/plain": [
       "<Figure size 1800x432 with 2 Axes>"
      ]
     },
     "metadata": {},
     "output_type": "display_data"
    }
   ],
   "source": [
    "# Use plot styling from seaborn.\n",
    "sns.set(style='whitegrid')\n",
    "\n",
    "# Increase the plot size and font size.\n",
    "sns.set(font_scale=1)\n",
    "plt.rcParams[\"figure.figsize\"] = (25,6)\n",
    "\n",
    "# Plot the learning curve.\n",
    "fig, (ax1,ax2) = plt.subplots(1,2)\n",
    "ax1.plot(np.array(train_loss_values), 'b-o', label=\"Training Loss\")\n",
    "ax1.plot(np.array(test_loss_values), 'g-o', label=\"Validation Loss\")\n",
    "\n",
    "# Label the plot.\n",
    "ax1.set_title(\"Training & Validation Loss\")\n",
    "ax1.set_xlabel(\"Epoch\")\n",
    "ax1.set_ylabel(\"Loss\")\n",
    "ax1.legend()\n",
    "\n",
    "ax2.plot(np.array(train_acc_values), 'b-o', label=\"Training Accuracy\")\n",
    "ax2.plot(np.array(test_acc_values), 'g-o', label=\"Validation Accuracy\")\n",
    "\n",
    "# Label the plot.\n",
    "ax2.set_title(\"Training & Validation Accuracy\")\n",
    "ax2.set_xlabel(\"Epoch\")\n",
    "ax2.set_ylabel(\"Loss\")\n",
    "ax2.legend()\n",
    "\n",
    "plt.show()"
   ]
  },
  {
   "cell_type": "markdown",
   "id": "a3a6d0df",
   "metadata": {},
   "source": [
    "# Average Validation Loss"
   ]
  },
  {
   "cell_type": "code",
   "execution_count": 10,
   "id": "7fa0f80b",
   "metadata": {},
   "outputs": [
    {
     "name": "stdout",
     "output_type": "stream",
     "text": [
      "Average Validation loss: 0.045\n"
     ]
    }
   ],
   "source": [
    "print(f'Average Validation loss: {test_loss:.3f}')"
   ]
  },
  {
   "cell_type": "code",
   "execution_count": null,
   "id": "7a8c0a0f",
   "metadata": {},
   "outputs": [],
   "source": []
  }
 ],
 "metadata": {
  "kernelspec": {
   "display_name": "Python 3",
   "language": "python",
   "name": "python3"
  },
  "language_info": {
   "codemirror_mode": {
    "name": "ipython",
    "version": 3
   },
   "file_extension": ".py",
   "mimetype": "text/x-python",
   "name": "python",
   "nbconvert_exporter": "python",
   "pygments_lexer": "ipython3",
   "version": "3.8.8"
  }
 },
 "nbformat": 4,
 "nbformat_minor": 5
}
